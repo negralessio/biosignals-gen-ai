{
 "cells": [
  {
   "cell_type": "code",
   "execution_count": 52,
   "metadata": {
    "collapsed": true,
    "ExecuteTime": {
     "end_time": "2023-12-04T16:57:20.054367Z",
     "start_time": "2023-12-04T16:57:20.030157Z"
    }
   },
   "outputs": [],
   "source": [
    "import pandas as pd\n",
    "import os\n",
    "\n",
    "import seaborn as sns\n",
    "import matplotlib.pyplot as plt"
   ]
  },
  {
   "cell_type": "markdown",
   "source": [
    "## Define Constants"
   ],
   "metadata": {
    "collapsed": false
   }
  },
  {
   "cell_type": "code",
   "execution_count": 53,
   "outputs": [],
   "source": [
    "RW_STEP_SIZE: int = 250         # Rolling Window step size\n",
    "CONDITION: str = \"MathxHard\"    # Which condition to analyse\n",
    "FIXED_SIZE: int = 10990         # Desired fixed size to cut time series into"
   ],
   "metadata": {
    "collapsed": false,
    "ExecuteTime": {
     "end_time": "2023-12-04T16:57:20.125933Z",
     "start_time": "2023-12-04T16:57:20.039582Z"
    }
   }
  },
  {
   "cell_type": "markdown",
   "source": [
    "# Define Loading Pipeline"
   ],
   "metadata": {
    "collapsed": false
   }
  },
  {
   "cell_type": "code",
   "execution_count": 54,
   "outputs": [],
   "source": [
    "def get_paths_to_data(dir: str = \"../data/raw/P01\", append_path: bool = True) -> list:\n",
    "    # Get list of csv files\n",
    "    data_paths = os.listdir(dir)\n",
    "    # Keep only csv data\n",
    "    data_paths = [x for x in data_paths if x.endswith(\".csv\")]\n",
    "    # Append path from current dir to csv file if input param is True\n",
    "    if append_path:\n",
    "        data_paths = [os.path.join(dir, x) for x in data_paths]\n",
    "    return data_paths\n",
    "\n",
    "def load_data(path: str) -> pd.DataFrame:\n",
    "    df = pd.read_csv(path)\n",
    "    # Convert 'TS_UNIX' to datetime\n",
    "    df[\"TS_UNIX\"] = pd.to_datetime(df[\"TS_UNIX\"], format=\"%Y-%m-%d %H:%M:%S.%f\")\n",
    "    return df\n",
    "\n",
    "def filter_condition_from_df(df: pd.DataFrame, condition: str) -> pd.DataFrame:\n",
    "    df = df[df[\"Condition\"] == condition]\n",
    "    return df\n",
    "\n",
    "def apply_rolling_window(df: pd.DataFrame, feat: str, step: int = 250) -> pd.DataFrame:\n",
    "    # Apply rolling window with step size step on column feat\n",
    "    df[f\"{feat}-RW{step}\"] = df[feat].rolling(window=step).mean()\n",
    "    return df\n",
    "\n",
    "def remove_nan_rows(df: pd.DataFrame, col_to_inspect: str) -> pd.DataFrame:\n",
    "    df = df[df[col_to_inspect].notna()]\n",
    "    return df\n",
    "\n",
    "def get_eeg_cols(df: pd.DataFrame, search_str: str = \"EEG\") -> list[str]:\n",
    "    return [x for x in list(df.columns) if x.startswith(search_str)]\n"
   ],
   "metadata": {
    "collapsed": false,
    "ExecuteTime": {
     "end_time": "2023-12-04T16:57:20.156691Z",
     "start_time": "2023-12-04T16:57:20.058003Z"
    }
   }
  },
  {
   "cell_type": "markdown",
   "source": [
    "# Execute Loading Pipeline"
   ],
   "metadata": {
    "collapsed": false
   }
  },
  {
   "cell_type": "code",
   "execution_count": 55,
   "outputs": [],
   "source": [
    "data_paths = get_paths_to_data()    # Get paths to all csv files\n",
    "data_paths.sort()   # Sort them alphabetically"
   ],
   "metadata": {
    "collapsed": false,
    "ExecuteTime": {
     "end_time": "2023-12-04T16:57:20.157205Z",
     "start_time": "2023-12-04T16:57:20.067691Z"
    }
   }
  },
  {
   "cell_type": "code",
   "execution_count": 56,
   "outputs": [],
   "source": [
    "# Do Loading Pipeline for every recording csv file and save data in df_list\n",
    "df_list = []\n",
    "for path in data_paths:\n",
    "    df = load_data(path)\n",
    "    df = filter_condition_from_df(df, condition=CONDITION)\n",
    "    for col in get_eeg_cols(df):\n",
    "        df = apply_rolling_window(df, feat=col, step=RW_STEP_SIZE)\n",
    "    df = remove_nan_rows(df, col_to_inspect=f\"EEG-L3-RW{RW_STEP_SIZE}\")\n",
    "    df_list.append(df)\n"
   ],
   "metadata": {
    "collapsed": false,
    "ExecuteTime": {
     "end_time": "2023-12-04T16:57:29.771288Z",
     "start_time": "2023-12-04T16:57:20.084955Z"
    }
   }
  },
  {
   "cell_type": "markdown",
   "source": [
    "# Visualize"
   ],
   "metadata": {
    "collapsed": false
   }
  },
  {
   "cell_type": "code",
   "execution_count": 57,
   "outputs": [],
   "source": [
    "def plot_all_time_series(df: pd.DataFrame, time_col: str = \"TS_UNIX\") -> None:\n",
    "    \"\"\" Plots all Time Series (all float64 columns) in the provided DataFrame\n",
    "\n",
    "    :param df: pd.DataFrame -- Input DataFrame\n",
    "    :param time_col: str -- Name of the time column\n",
    "    :return: None\n",
    "    \"\"\"\n",
    "    cols = [x for x in list(df.columns) if x.endswith(f\"RW{RW_STEP_SIZE}\")]\n",
    "    condition = df[\"Condition\"].iloc[0]\n",
    "    response = df[\"Response\"].iloc[0]\n",
    "\n",
    "    fig, axes = plt.subplots(nrows=len(cols), ncols=1, figsize=(20, len(cols)*5))\n",
    "    for col, ax in zip(cols, axes.flatten()):\n",
    "        sns.lineplot(data=df, x=time_col, y=col, ax=ax,)\n",
    "        ax.set_title(col + f\" (Condition: {condition} | Response: {response:.2f})\", fontweight=\"bold\", size=16)\n",
    "    fig.tight_layout()\n",
    "    fig.show()\n",
    "\n",
    "\n",
    "def plot_all_time_series_all_sessions(df_list: list[pd.DataFrame], time_col: str = \"TS_UNIX\", savefig: bool = True) -> None:\n",
    "    \"\"\" Plots all Time Series (all float64 columns) in the provided list of DataFrame\n",
    "\n",
    "    :param df_list: list[pd.DataFrame] -- List of input DataFrames\n",
    "    :param time_col: str -- Name of the time column\n",
    "    :param savefig: bool -- Whether to save it in root/assets or not\n",
    "    :return: None\n",
    "    \"\"\"\n",
    "    cols = [x for x in list(df_list[0].columns) if x.endswith(f\"RW{RW_STEP_SIZE}\")]\n",
    "\n",
    "    fig, axes = plt.subplots(nrows=len(cols), ncols=len(df_list), figsize=(len(df_list)*10, len(cols)*5))\n",
    "    for j, df in enumerate(df_list):\n",
    "        condition = df[\"Condition\"].iloc[0]\n",
    "        response = df[\"Response\"].iloc[0]\n",
    "        session = df[\"RecID\"].iloc[0]\n",
    "        for i, col in enumerate(cols):\n",
    "            sns.lineplot(data=df, x=time_col, y=col, ax=axes[i, j])\n",
    "            axes[i, j].set_title(col + f\" (Rec-ID: {session} | Condition: {condition} | Response: {response:.2f})\", fontweight=\"bold\", size=16)\n",
    "    fig.tight_layout()\n",
    "\n",
    "    if savefig:\n",
    "        path = \"../assets/all_sessions.png\"\n",
    "        print(f\"Saving figure in '{path}'\")\n",
    "        plt.savefig(path)\n",
    "\n",
    "    fig.show()\n",
    "\n",
    "\n",
    "# Plot for one session\n",
    "#plot_all_time_series(df)\n",
    "\n",
    "# Plot for all Session -- EXPENSIVE\n",
    "#plot_all_time_series_all_sessions(df_list)"
   ],
   "metadata": {
    "collapsed": false,
    "ExecuteTime": {
     "end_time": "2023-12-04T16:57:29.874668Z",
     "start_time": "2023-12-04T16:57:29.868969Z"
    }
   }
  },
  {
   "cell_type": "markdown",
   "source": [
    "# Postprocessing"
   ],
   "metadata": {
    "collapsed": false
   }
  },
  {
   "cell_type": "code",
   "execution_count": 63,
   "outputs": [],
   "source": [
    "def set_time_to_index(df: pd.DataFrame, time_col = \"TS_UNIX\") -> pd.DataFrame:\n",
    "    try:\n",
    "        df = df.set_index(time_col, drop=True)\n",
    "    except KeyError:\n",
    "        pass\n",
    "    return df\n",
    "\n",
    "def keep_only_relevant_features(df: pd.DataFrame) -> pd.DataFrame:\n",
    "    cols_to_keep = [x for x in list(df.columns) if x.endswith(f\"RW{RW_STEP_SIZE}\")]\n",
    "\n",
    "    return df[cols_to_keep]\n",
    "\n",
    "def cut_df_to_fixed_sized(df: pd.DataFrame, desired_size: int = 10990, remove_at_beginning: bool = False) -> pd.DataFrame:\n",
    "    # Get current size\n",
    "    N = df.shape[0]\n",
    "\n",
    "    k = abs(N - desired_size)\n",
    "    if remove_at_beginning:\n",
    "        df = df.iloc[k:]\n",
    "    else:\n",
    "        df = df.iloc[:-k]\n",
    "\n",
    "    return df"
   ],
   "metadata": {
    "collapsed": false,
    "ExecuteTime": {
     "end_time": "2023-12-04T16:58:03.707607Z",
     "start_time": "2023-12-04T16:58:03.701642Z"
    }
   }
  },
  {
   "cell_type": "code",
   "execution_count": 64,
   "outputs": [],
   "source": [
    "def post_process_df_list(df_list: list[pd.DataFrame]) -> list[pd.DataFrame]:\n",
    "    df_list_post = []\n",
    "    for df in df_list:\n",
    "        df = set_time_to_index(df)\n",
    "        df = keep_only_relevant_features(df)\n",
    "        df = cut_df_to_fixed_sized(df, desired_size=FIXED_SIZE)\n",
    "        df_list_post.append(df)\n",
    "    return df_list_post"
   ],
   "metadata": {
    "collapsed": false,
    "ExecuteTime": {
     "end_time": "2023-12-04T16:58:04.113690Z",
     "start_time": "2023-12-04T16:58:04.088732Z"
    }
   }
  },
  {
   "cell_type": "code",
   "execution_count": 65,
   "outputs": [],
   "source": [
    "df_list = post_process_df_list(df_list)"
   ],
   "metadata": {
    "collapsed": false,
    "ExecuteTime": {
     "end_time": "2023-12-04T16:58:04.618096Z",
     "start_time": "2023-12-04T16:58:04.598682Z"
    }
   }
  },
  {
   "cell_type": "code",
   "execution_count": 66,
   "outputs": [
    {
     "name": "stdout",
     "output_type": "stream",
     "text": [
      "(10990, 7)\n",
      "(10990, 7)\n",
      "(10990, 7)\n",
      "(10990, 7)\n",
      "(10990, 7)\n",
      "(10990, 7)\n",
      "(10990, 7)\n",
      "(10990, 7)\n",
      "(10990, 7)\n",
      "(10990, 7)\n"
     ]
    }
   ],
   "source": [
    "for df in df_list:\n",
    "    print(df.shape)"
   ],
   "metadata": {
    "collapsed": false,
    "ExecuteTime": {
     "end_time": "2023-12-04T16:58:04.910742Z",
     "start_time": "2023-12-04T16:58:04.901687Z"
    }
   }
  },
  {
   "cell_type": "code",
   "execution_count": 67,
   "outputs": [
    {
     "data": {
      "text/plain": "                                     EEG-L3-RW250  EEG-L5-RW250  EEG-C3-RW250  \\\nTS_UNIX                                                                         \n2022-06-27 16:31:39.282195968+02:00     -0.891914      0.280378      1.853403   \n2022-06-27 16:31:39.282208+02:00        -0.681256      0.446288      1.986537   \n2022-06-27 16:31:39.282221824+02:00     -0.501148      0.597149      2.058992   \n2022-06-27 16:31:39.282234880+02:00     -0.399071      0.703602      2.051845   \n2022-06-27 16:31:39.282247168+02:00     -0.386049      0.756301      1.974326   \n\n                                     EEG-Cz-RW250  EEG-C4-RW250  EEG-R3-RW250  \\\nTS_UNIX                                                                         \n2022-06-27 16:31:39.282195968+02:00      0.156984      0.034852     -0.909730   \n2022-06-27 16:31:39.282208+02:00         0.315634      0.204658     -0.761060   \n2022-06-27 16:31:39.282221824+02:00      0.434501      0.319494     -0.638227   \n2022-06-27 16:31:39.282234880+02:00      0.476132      0.348037     -0.576424   \n2022-06-27 16:31:39.282247168+02:00      0.434121      0.292290     -0.582977   \n\n                                     EEG-R5-RW250  \nTS_UNIX                                            \n2022-06-27 16:31:39.282195968+02:00     -0.463172  \n2022-06-27 16:31:39.282208+02:00        -0.389278  \n2022-06-27 16:31:39.282221824+02:00     -0.350411  \n2022-06-27 16:31:39.282234880+02:00     -0.369533  \n2022-06-27 16:31:39.282247168+02:00     -0.446670  ",
      "text/html": "<div>\n<style scoped>\n    .dataframe tbody tr th:only-of-type {\n        vertical-align: middle;\n    }\n\n    .dataframe tbody tr th {\n        vertical-align: top;\n    }\n\n    .dataframe thead th {\n        text-align: right;\n    }\n</style>\n<table border=\"1\" class=\"dataframe\">\n  <thead>\n    <tr style=\"text-align: right;\">\n      <th></th>\n      <th>EEG-L3-RW250</th>\n      <th>EEG-L5-RW250</th>\n      <th>EEG-C3-RW250</th>\n      <th>EEG-Cz-RW250</th>\n      <th>EEG-C4-RW250</th>\n      <th>EEG-R3-RW250</th>\n      <th>EEG-R5-RW250</th>\n    </tr>\n    <tr>\n      <th>TS_UNIX</th>\n      <th></th>\n      <th></th>\n      <th></th>\n      <th></th>\n      <th></th>\n      <th></th>\n      <th></th>\n    </tr>\n  </thead>\n  <tbody>\n    <tr>\n      <th>2022-06-27 16:31:39.282195968+02:00</th>\n      <td>-0.891914</td>\n      <td>0.280378</td>\n      <td>1.853403</td>\n      <td>0.156984</td>\n      <td>0.034852</td>\n      <td>-0.909730</td>\n      <td>-0.463172</td>\n    </tr>\n    <tr>\n      <th>2022-06-27 16:31:39.282208+02:00</th>\n      <td>-0.681256</td>\n      <td>0.446288</td>\n      <td>1.986537</td>\n      <td>0.315634</td>\n      <td>0.204658</td>\n      <td>-0.761060</td>\n      <td>-0.389278</td>\n    </tr>\n    <tr>\n      <th>2022-06-27 16:31:39.282221824+02:00</th>\n      <td>-0.501148</td>\n      <td>0.597149</td>\n      <td>2.058992</td>\n      <td>0.434501</td>\n      <td>0.319494</td>\n      <td>-0.638227</td>\n      <td>-0.350411</td>\n    </tr>\n    <tr>\n      <th>2022-06-27 16:31:39.282234880+02:00</th>\n      <td>-0.399071</td>\n      <td>0.703602</td>\n      <td>2.051845</td>\n      <td>0.476132</td>\n      <td>0.348037</td>\n      <td>-0.576424</td>\n      <td>-0.369533</td>\n    </tr>\n    <tr>\n      <th>2022-06-27 16:31:39.282247168+02:00</th>\n      <td>-0.386049</td>\n      <td>0.756301</td>\n      <td>1.974326</td>\n      <td>0.434121</td>\n      <td>0.292290</td>\n      <td>-0.582977</td>\n      <td>-0.446670</td>\n    </tr>\n  </tbody>\n</table>\n</div>"
     },
     "execution_count": 67,
     "metadata": {},
     "output_type": "execute_result"
    }
   ],
   "source": [
    "df.head(5)"
   ],
   "metadata": {
    "collapsed": false,
    "ExecuteTime": {
     "end_time": "2023-12-04T17:00:42.299880Z",
     "start_time": "2023-12-04T17:00:42.278330Z"
    }
   }
  }
 ],
 "metadata": {
  "kernelspec": {
   "display_name": "Python 3",
   "language": "python",
   "name": "python3"
  },
  "language_info": {
   "codemirror_mode": {
    "name": "ipython",
    "version": 2
   },
   "file_extension": ".py",
   "mimetype": "text/x-python",
   "name": "python",
   "nbconvert_exporter": "python",
   "pygments_lexer": "ipython2",
   "version": "2.7.6"
  }
 },
 "nbformat": 4,
 "nbformat_minor": 0
}
