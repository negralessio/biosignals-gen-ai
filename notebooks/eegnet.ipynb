{
 "cells": [
  {
   "cell_type": "code",
   "execution_count": 1,
   "metadata": {
    "collapsed": true,
    "ExecuteTime": {
     "end_time": "2024-01-13T12:33:33.112945Z",
     "start_time": "2024-01-13T12:33:33.072148Z"
    }
   },
   "outputs": [],
   "source": [
    "%load_ext autoreload\n",
    "%autoreload 2"
   ]
  },
  {
   "cell_type": "code",
   "execution_count": 2,
   "outputs": [
    {
     "name": "stderr",
     "output_type": "stream",
     "text": [
      "2024-01-13 13:33:36.455399: I tensorflow/core/platform/cpu_feature_guard.cc:182] This TensorFlow binary is optimized to use available CPU instructions in performance-critical operations.\n",
      "To enable the following instructions: AVX2 FMA, in other operations, rebuild TensorFlow with the appropriate compiler flags.\n"
     ]
    }
   ],
   "source": [
    "import matplotlib.pyplot as plt\n",
    "import pandas as pd\n",
    "import numpy as np\n",
    "\n",
    "from src.eegnet import EEGNet\n",
    "from src.dataloading import DataLoader\n",
    "from src.preprocessing import Preprocesser\n",
    "\n",
    "import matplotlib\n",
    "matplotlib.rcParams['mathtext.fontset'] = 'stix'\n",
    "matplotlib.rcParams['font.family'] = 'STIXGeneral'\n",
    "\n",
    "import tensorflow as tf\n",
    "tf.keras.utils.set_random_seed(42)"
   ],
   "metadata": {
    "collapsed": false,
    "ExecuteTime": {
     "end_time": "2024-01-13T12:33:40.387029Z",
     "start_time": "2024-01-13T12:33:33.113972Z"
    }
   }
  },
  {
   "cell_type": "markdown",
   "source": [
    "# Get Data"
   ],
   "metadata": {
    "collapsed": false
   }
  },
  {
   "cell_type": "code",
   "execution_count": 3,
   "outputs": [
    {
     "name": "stderr",
     "output_type": "stream",
     "text": [
      "2024-01-13 13:33:40,456 - src.dataloading - INFO - Found 10 .csv files in input path '../data/raw/P01' ...\n",
      "2024-01-13 13:33:49,312 - src.dataloading - INFO - Parsed 10 .csv files into DataFrames ...\n"
     ]
    }
   ],
   "source": [
    "dataloader = DataLoader(path_to_data=\"../data/raw/P01\")\n",
    "df_list: list[pd.DataFrame] = dataloader.load_data()\n",
    "\n",
    "CONDITIONS = [\"MathxEasy\", \"MathxMedium\", \"MathxHard\"]\n",
    "pp_data = {}\n",
    "\n",
    "for i, condition in enumerate(CONDITIONS):\n",
    "    preprocessor = Preprocesser(df_list=df_list, condition=condition, partition_size=250, fixed_size=11000)\n",
    "    tensor: np.array = preprocessor.preprocess_data()\n",
    "    FEATURE_NAMES = list(preprocessor.df_list_processed[0].columns)\n",
    "\n",
    "    pp_data[condition] = {\n",
    "        \"tensor\": tensor,\n",
    "        \"y_list\": preprocessor.y_list_processed,\n",
    "        \"condition\": condition,\n",
    "        \"condition_encoded\": i,\n",
    "        \"condition_df\": pd.DataFrame([condition for n in range(0, tensor.shape[0])]),\n",
    "        \"condition_encoded_df\": pd.DataFrame([i for n in range(0, tensor.shape[0])]),\n",
    "        \"feature_names\": FEATURE_NAMES,\n",
    "        \"scaler_object\": preprocessor.scaler\n",
    "    }\n",
    "\n",
    "# Stack data of each condition to one single 3D numpy array (input data to model)\n",
    "tensor = np.concatenate([pp_data[key][\"tensor\"] for key in pp_data.keys()], axis=0)\n",
    "y_tensor = np.concatenate([pp_data[key][\"y_list\"] for key in pp_data.keys()], axis=0)\n",
    "conditions = pd.concat(pp_data[key][\"condition_df\"] for key in pp_data.keys())\n",
    "\n",
    "# Get Labels in Shape (1290 x 1), i.e. (Number of Samples, Dimension_Label)\n",
    "y_label_list = []\n",
    "for i in range(0, y_tensor.shape[0]):\n",
    "    y = y_tensor[i][0]\n",
    "    y_label_list.append(y)\n",
    "y_label = np.array(y_label_list)\n",
    "\n",
    "# Discretize labels\n",
    "def _discretize_target(val: float) -> np.array:\n",
    "    \"\"\" Call this function via np.vectorize(_discretize_target)(y_label) \"\"\"\n",
    "    if val < 0.1:\n",
    "        return 0\n",
    "    elif 0.1 <= val < 0.3:\n",
    "        return 1\n",
    "    else:\n",
    "        return 2\n",
    "\n",
    "classes = np.vectorize(_discretize_target)(y_label)\n"
   ],
   "metadata": {
    "collapsed": false,
    "ExecuteTime": {
     "end_time": "2024-01-13T12:33:49.340067Z",
     "start_time": "2024-01-13T12:33:40.390661Z"
    }
   }
  },
  {
   "cell_type": "code",
   "execution_count": 4,
   "outputs": [
    {
     "name": "stderr",
     "output_type": "stream",
     "text": [
      "2024-01-13 13:33:49,423 - src.preprocessing - INFO - Starting preprocessing pipeline (Condition: MathxEasy, Partition Size: 250, Fixed Size: 11000) ...\n",
      "2024-01-13 13:33:49,597 - src.preprocessing - INFO - Stacking data to 3D tensor ...\n",
      "2024-01-13 13:33:49,609 - src.preprocessing - INFO - Finished preprocessing pipeline (Duration: 0.19s) ...\n",
      "\n",
      "2024-01-13 13:33:49,612 - src.preprocessing - INFO - Starting preprocessing pipeline (Condition: MathxMedium, Partition Size: 250, Fixed Size: 11000) ...\n",
      "2024-01-13 13:33:49,766 - src.preprocessing - INFO - Stacking data to 3D tensor ...\n",
      "2024-01-13 13:33:49,778 - src.preprocessing - INFO - Finished preprocessing pipeline (Duration: 0.16s) ...\n",
      "\n",
      "2024-01-13 13:33:49,780 - src.preprocessing - INFO - Starting preprocessing pipeline (Condition: MathxHard, Partition Size: 250, Fixed Size: 11000) ...\n",
      "2024-01-13 13:33:49,952 - src.preprocessing - INFO - Stacking data to 3D tensor ...\n",
      "2024-01-13 13:33:49,965 - src.preprocessing - INFO - Finished preprocessing pipeline (Duration: 0.18s) ...\n",
      "\n"
     ]
    }
   ],
   "source": [
    "print(f\"Shape of Input Data: {tensor.shape}\")\n",
    "print(f\"Shape of condition_df: {conditions.shape}\")\n",
    "print(f\"Shape of Labels: {y_tensor.shape}\")"
   ],
   "metadata": {
    "collapsed": false,
    "ExecuteTime": {
     "end_time": "2024-01-13T12:33:50.025043Z",
     "start_time": "2024-01-13T12:33:49.324302Z"
    }
   }
  },
  {
   "cell_type": "markdown",
   "source": [
    "## Discretize labels"
   ],
   "metadata": {
    "collapsed": false,
    "ExecuteTime": {
     "end_time": "2024-01-13T12:33:50.074872Z",
     "start_time": "2024-01-13T12:33:49.990793Z"
    }
   },
   "outputs": [
    {
     "name": "stdout",
     "output_type": "stream",
     "text": [
      "Shape of tensor:\t\t\t (1320, 250, 7)\n",
      "Shape of conditions:\t\t (1320, 1)\n",
      "Shape of labels:\t\t\t (1320, 1)\n",
      "Shape of labels_discretized: (1320, 1)\n"
     ]
    }
   ],
   "execution_count": 5
  },
  {
   "cell_type": "code",
   "execution_count": null,
   "outputs": [],
   "source": [
    "import seaborn as sns\n",
    "sns.histplot(y_label.flatten())"
   ],
   "metadata": {
    "collapsed": false
   }
  },
  {
   "cell_type": "code",
   "execution_count": 6,
   "outputs": [],
   "source": [
    "from tensorflow.keras.utils import to_categorical\n",
    "classes = to_categorical(classes)\n",
    "classes.shape"
   ],
   "metadata": {
    "collapsed": false,
    "ExecuteTime": {
     "end_time": "2024-01-13T12:33:50.308538Z",
     "start_time": "2024-01-13T12:33:50.068292Z"
    }
   }
  },
  {
   "cell_type": "markdown",
   "source": [
    "# EEGNet"
   ],
   "metadata": {
    "collapsed": false,
    "ExecuteTime": {
     "end_time": "2024-01-13T12:33:50.409364Z",
     "start_time": "2024-01-13T12:33:50.292337Z"
    }
   },
   "outputs": [],
   "execution_count": 7
  },
  {
   "cell_type": "code",
   "execution_count": 8,
   "outputs": [
    {
     "name": "stdout",
     "output_type": "stream",
     "text": [
      "Model: \"model\"\n",
      "_________________________________________________________________\n",
      " Layer (type)                Output Shape              Param #   \n",
      "=================================================================\n",
      " input_1 (InputLayer)        [(None, 7, 250, 1)]       0         \n",
      "                                                                 \n",
      " conv2d (Conv2D)             (None, 7, 250, 8)         1024      \n",
      "                                                                 \n",
      " batch_normalization (Batch  (None, 7, 250, 8)         32        \n",
      " Normalization)                                                  \n",
      "                                                                 \n",
      " depthwise_conv2d (Depthwis  (None, 1, 250, 16)        112       \n",
      " eConv2D)                                                        \n",
      "                                                                 \n",
      " batch_normalization_1 (Bat  (None, 1, 250, 16)        64        \n",
      " chNormalization)                                                \n",
      "                                                                 \n",
      " activation (Activation)     (None, 1, 250, 16)        0         \n",
      "                                                                 \n",
      " average_pooling2d (Average  (None, 1, 62, 16)         0         \n",
      " Pooling2D)                                                      \n",
      "                                                                 \n",
      " dropout (Dropout)           (None, 1, 62, 16)         0         \n",
      "                                                                 \n",
      " separable_conv2d (Separabl  (None, 1, 62, 16)         512       \n",
      " eConv2D)                                                        \n",
      "                                                                 \n",
      " batch_normalization_2 (Bat  (None, 1, 62, 16)         64        \n",
      " chNormalization)                                                \n",
      "                                                                 \n",
      " activation_1 (Activation)   (None, 1, 62, 16)         0         \n",
      "                                                                 \n",
      " average_pooling2d_1 (Avera  (None, 1, 7, 16)          0         \n",
      " gePooling2D)                                                    \n",
      "                                                                 \n",
      " dropout_1 (Dropout)         (None, 1, 7, 16)          0         \n",
      "                                                                 \n",
      " flatten (Flatten)           (None, 112)               0         \n",
      "                                                                 \n",
      " dense (Dense)               (None, 3)                 339       \n",
      "                                                                 \n",
      " softmax (Activation)        (None, 3)                 0         \n",
      "                                                                 \n",
      "=================================================================\n",
      "Total params: 2147 (8.39 KB)\n",
      "Trainable params: 2067 (8.07 KB)\n",
      "Non-trainable params: 80 (320.00 Byte)\n",
      "_________________________________________________________________\n"
     ]
    }
   ],
   "source": [
    "clf = EEGNet(nb_classes=3, Chans=7, Samples=250, dropoutRate=0.5, kernLength=64, F1=8, D=2, F2=16, norm_rate=0.25, dropoutType='Dropout')"
   ],
   "metadata": {
    "collapsed": false,
    "ExecuteTime": {
     "end_time": "2024-01-13T12:33:50.525024Z",
     "start_time": "2024-01-13T12:33:50.392937Z"
    }
   }
  },
  {
   "cell_type": "code",
   "execution_count": 9,
   "outputs": [
    {
     "name": "stdout",
     "output_type": "stream",
     "text": [
      "Epoch 1/64\n",
      "297/297 - 5s - loss: 0.9626 - accuracy: 0.5345 - val_loss: 0.9056 - val_accuracy: 0.6667 - 5s/epoch - 18ms/step\n",
      "Epoch 2/64\n",
      "297/297 - 4s - loss: 0.8571 - accuracy: 0.5976 - val_loss: 2.5016 - val_accuracy: 0.0000e+00 - 4s/epoch - 12ms/step\n",
      "Epoch 3/64\n",
      "297/297 - 4s - loss: 0.7735 - accuracy: 0.6608 - val_loss: 1.2535 - val_accuracy: 0.3333 - 4s/epoch - 12ms/step\n",
      "Epoch 4/64\n",
      "297/297 - 4s - loss: 0.7678 - accuracy: 0.6566 - val_loss: 1.9917 - val_accuracy: 0.0000e+00 - 4s/epoch - 12ms/step\n",
      "Epoch 5/64\n",
      "297/297 - 3s - loss: 0.7228 - accuracy: 0.6852 - val_loss: 1.4364 - val_accuracy: 0.3258 - 3s/epoch - 11ms/step\n",
      "Epoch 6/64\n",
      "297/297 - 3s - loss: 0.7083 - accuracy: 0.6843 - val_loss: 1.0015 - val_accuracy: 0.5758 - 3s/epoch - 11ms/step\n",
      "Epoch 7/64\n",
      "297/297 - 3s - loss: 0.6614 - accuracy: 0.7096 - val_loss: 2.2375 - val_accuracy: 0.0000e+00 - 3s/epoch - 11ms/step\n",
      "Epoch 8/64\n",
      "297/297 - 3s - loss: 0.6516 - accuracy: 0.7071 - val_loss: 1.6091 - val_accuracy: 0.3333 - 3s/epoch - 11ms/step\n",
      "Epoch 9/64\n",
      "297/297 - 3s - loss: 0.6333 - accuracy: 0.7281 - val_loss: 1.8233 - val_accuracy: 0.0000e+00 - 3s/epoch - 11ms/step\n",
      "Epoch 10/64\n",
      "297/297 - 3s - loss: 0.6085 - accuracy: 0.7399 - val_loss: 1.6279 - val_accuracy: 0.0985 - 3s/epoch - 11ms/step\n",
      "Epoch 11/64\n",
      "297/297 - 3s - loss: 0.6276 - accuracy: 0.7323 - val_loss: 1.3854 - val_accuracy: 0.3333 - 3s/epoch - 11ms/step\n",
      "Epoch 12/64\n",
      "297/297 - 3s - loss: 0.6038 - accuracy: 0.7416 - val_loss: 2.2546 - val_accuracy: 0.0000e+00 - 3s/epoch - 11ms/step\n",
      "Epoch 13/64\n",
      "297/297 - 3s - loss: 0.5789 - accuracy: 0.7576 - val_loss: 2.2077 - val_accuracy: 0.0000e+00 - 3s/epoch - 11ms/step\n",
      "Epoch 14/64\n",
      "297/297 - 3s - loss: 0.5488 - accuracy: 0.7786 - val_loss: 3.0318 - val_accuracy: 0.0000e+00 - 3s/epoch - 11ms/step\n",
      "Epoch 15/64\n",
      "297/297 - 3s - loss: 0.5661 - accuracy: 0.7500 - val_loss: 2.9628 - val_accuracy: 0.0000e+00 - 3s/epoch - 11ms/step\n",
      "Epoch 16/64\n",
      "297/297 - 3s - loss: 0.5496 - accuracy: 0.7710 - val_loss: 2.0762 - val_accuracy: 0.0000e+00 - 3s/epoch - 11ms/step\n",
      "Epoch 17/64\n",
      "297/297 - 3s - loss: 0.5344 - accuracy: 0.7811 - val_loss: 1.8599 - val_accuracy: 0.0000e+00 - 3s/epoch - 12ms/step\n",
      "Epoch 18/64\n",
      "297/297 - 3s - loss: 0.4985 - accuracy: 0.8005 - val_loss: 2.9196 - val_accuracy: 0.0000e+00 - 3s/epoch - 11ms/step\n",
      "Epoch 19/64\n",
      "297/297 - 3s - loss: 0.4654 - accuracy: 0.8148 - val_loss: 2.1559 - val_accuracy: 0.0000e+00 - 3s/epoch - 11ms/step\n",
      "Epoch 20/64\n",
      "297/297 - 3s - loss: 0.4379 - accuracy: 0.8350 - val_loss: 3.5423 - val_accuracy: 0.0000e+00 - 3s/epoch - 11ms/step\n",
      "Epoch 21/64\n",
      "297/297 - 3s - loss: 0.4660 - accuracy: 0.8215 - val_loss: 1.9985 - val_accuracy: 0.2500 - 3s/epoch - 11ms/step\n",
      "Epoch 22/64\n",
      "297/297 - 3s - loss: 0.4674 - accuracy: 0.8232 - val_loss: 2.3521 - val_accuracy: 0.0076 - 3s/epoch - 11ms/step\n",
      "Epoch 23/64\n",
      "297/297 - 3s - loss: 0.4406 - accuracy: 0.8342 - val_loss: 2.7238 - val_accuracy: 0.0000e+00 - 3s/epoch - 11ms/step\n",
      "Epoch 24/64\n",
      "297/297 - 4s - loss: 0.4031 - accuracy: 0.8434 - val_loss: 4.0952 - val_accuracy: 0.0000e+00 - 4s/epoch - 13ms/step\n",
      "Epoch 25/64\n",
      "297/297 - 4s - loss: 0.4496 - accuracy: 0.8316 - val_loss: 3.3411 - val_accuracy: 0.0000e+00 - 4s/epoch - 14ms/step\n",
      "Epoch 26/64\n",
      "297/297 - 5s - loss: 0.4192 - accuracy: 0.8359 - val_loss: 2.2117 - val_accuracy: 0.0000e+00 - 5s/epoch - 17ms/step\n",
      "Epoch 27/64\n",
      "297/297 - 6s - loss: 0.3921 - accuracy: 0.8510 - val_loss: 3.0464 - val_accuracy: 0.0000e+00 - 6s/epoch - 20ms/step\n",
      "Epoch 28/64\n",
      "297/297 - 5s - loss: 0.3782 - accuracy: 0.8493 - val_loss: 3.7203 - val_accuracy: 0.0000e+00 - 5s/epoch - 17ms/step\n",
      "Epoch 29/64\n",
      "297/297 - 4s - loss: 0.3740 - accuracy: 0.8678 - val_loss: 2.6366 - val_accuracy: 0.0000e+00 - 4s/epoch - 13ms/step\n",
      "Epoch 30/64\n",
      "297/297 - 4s - loss: 0.3776 - accuracy: 0.8552 - val_loss: 2.4028 - val_accuracy: 0.0000e+00 - 4s/epoch - 13ms/step\n",
      "Epoch 31/64\n",
      "297/297 - 4s - loss: 0.3699 - accuracy: 0.8712 - val_loss: 3.9729 - val_accuracy: 0.0000e+00 - 4s/epoch - 14ms/step\n",
      "Epoch 32/64\n",
      "297/297 - 4s - loss: 0.3833 - accuracy: 0.8502 - val_loss: 3.1332 - val_accuracy: 0.0076 - 4s/epoch - 13ms/step\n",
      "Epoch 33/64\n",
      "297/297 - 4s - loss: 0.3795 - accuracy: 0.8603 - val_loss: 1.6542 - val_accuracy: 0.0833 - 4s/epoch - 12ms/step\n",
      "Epoch 34/64\n",
      "297/297 - 4s - loss: 0.3382 - accuracy: 0.8754 - val_loss: 2.0888 - val_accuracy: 0.0076 - 4s/epoch - 15ms/step\n",
      "Epoch 35/64\n",
      "297/297 - 3s - loss: 0.3524 - accuracy: 0.8678 - val_loss: 2.2176 - val_accuracy: 0.0227 - 3s/epoch - 11ms/step\n",
      "Epoch 36/64\n",
      "297/297 - 3s - loss: 0.3501 - accuracy: 0.8796 - val_loss: 3.9985 - val_accuracy: 0.0000e+00 - 3s/epoch - 11ms/step\n",
      "Epoch 37/64\n",
      "297/297 - 3s - loss: 0.3240 - accuracy: 0.8822 - val_loss: 2.1973 - val_accuracy: 0.0000e+00 - 3s/epoch - 11ms/step\n",
      "Epoch 38/64\n",
      "297/297 - 3s - loss: 0.3406 - accuracy: 0.8662 - val_loss: 2.4849 - val_accuracy: 0.0000e+00 - 3s/epoch - 10ms/step\n",
      "Epoch 39/64\n",
      "297/297 - 3s - loss: 0.3553 - accuracy: 0.8704 - val_loss: 2.8602 - val_accuracy: 0.0000e+00 - 3s/epoch - 10ms/step\n",
      "Epoch 40/64\n",
      "297/297 - 3s - loss: 0.3522 - accuracy: 0.8653 - val_loss: 3.6260 - val_accuracy: 0.0000e+00 - 3s/epoch - 10ms/step\n",
      "Epoch 41/64\n",
      "297/297 - 3s - loss: 0.3252 - accuracy: 0.8771 - val_loss: 4.1275 - val_accuracy: 0.0000e+00 - 3s/epoch - 10ms/step\n",
      "Epoch 42/64\n",
      "297/297 - 3s - loss: 0.3350 - accuracy: 0.8721 - val_loss: 3.0614 - val_accuracy: 0.0000e+00 - 3s/epoch - 10ms/step\n",
      "Epoch 43/64\n",
      "297/297 - 3s - loss: 0.3075 - accuracy: 0.8939 - val_loss: 2.7701 - val_accuracy: 0.0000e+00 - 3s/epoch - 10ms/step\n",
      "Epoch 44/64\n",
      "297/297 - 3s - loss: 0.3052 - accuracy: 0.8771 - val_loss: 5.1495 - val_accuracy: 0.0000e+00 - 3s/epoch - 10ms/step\n",
      "Epoch 45/64\n",
      "297/297 - 3s - loss: 0.3081 - accuracy: 0.8931 - val_loss: 3.5468 - val_accuracy: 0.0000e+00 - 3s/epoch - 10ms/step\n",
      "Epoch 46/64\n",
      "297/297 - 3s - loss: 0.3688 - accuracy: 0.8603 - val_loss: 3.6623 - val_accuracy: 0.0000e+00 - 3s/epoch - 11ms/step\n",
      "Epoch 47/64\n",
      "297/297 - 3s - loss: 0.3006 - accuracy: 0.8965 - val_loss: 3.3057 - val_accuracy: 0.0076 - 3s/epoch - 10ms/step\n",
      "Epoch 48/64\n",
      "297/297 - 3s - loss: 0.2923 - accuracy: 0.9007 - val_loss: 3.8619 - val_accuracy: 0.0000e+00 - 3s/epoch - 10ms/step\n",
      "Epoch 49/64\n",
      "297/297 - 3s - loss: 0.3477 - accuracy: 0.8662 - val_loss: 4.8712 - val_accuracy: 0.0000e+00 - 3s/epoch - 10ms/step\n",
      "Epoch 50/64\n",
      "297/297 - 3s - loss: 0.3182 - accuracy: 0.8754 - val_loss: 6.6098 - val_accuracy: 0.0000e+00 - 3s/epoch - 10ms/step\n",
      "Epoch 51/64\n",
      "297/297 - 3s - loss: 0.3085 - accuracy: 0.8788 - val_loss: 3.5323 - val_accuracy: 0.0000e+00 - 3s/epoch - 10ms/step\n",
      "Epoch 52/64\n",
      "297/297 - 3s - loss: 0.3060 - accuracy: 0.8880 - val_loss: 4.8741 - val_accuracy: 0.0000e+00 - 3s/epoch - 10ms/step\n",
      "Epoch 53/64\n",
      "297/297 - 3s - loss: 0.2974 - accuracy: 0.8990 - val_loss: 2.5772 - val_accuracy: 0.0303 - 3s/epoch - 10ms/step\n",
      "Epoch 54/64\n",
      "297/297 - 3s - loss: 0.2880 - accuracy: 0.8855 - val_loss: 7.1880 - val_accuracy: 0.0000e+00 - 3s/epoch - 10ms/step\n",
      "Epoch 55/64\n",
      "297/297 - 3s - loss: 0.3066 - accuracy: 0.8822 - val_loss: 5.8009 - val_accuracy: 0.0000e+00 - 3s/epoch - 10ms/step\n",
      "Epoch 56/64\n",
      "297/297 - 3s - loss: 0.3179 - accuracy: 0.8880 - val_loss: 1.8253 - val_accuracy: 0.0682 - 3s/epoch - 10ms/step\n",
      "Epoch 57/64\n",
      "297/297 - 3s - loss: 0.3083 - accuracy: 0.8813 - val_loss: 4.3685 - val_accuracy: 0.0000e+00 - 3s/epoch - 10ms/step\n",
      "Epoch 58/64\n",
      "297/297 - 3s - loss: 0.2917 - accuracy: 0.8880 - val_loss: 3.1440 - val_accuracy: 0.0000e+00 - 3s/epoch - 10ms/step\n",
      "Epoch 59/64\n",
      "297/297 - 3s - loss: 0.2865 - accuracy: 0.8906 - val_loss: 5.6062 - val_accuracy: 0.0000e+00 - 3s/epoch - 10ms/step\n",
      "Epoch 60/64\n",
      "297/297 - 3s - loss: 0.2642 - accuracy: 0.8973 - val_loss: 7.8650 - val_accuracy: 0.0000e+00 - 3s/epoch - 10ms/step\n",
      "Epoch 61/64\n",
      "297/297 - 3s - loss: 0.2574 - accuracy: 0.9082 - val_loss: 5.9361 - val_accuracy: 0.0000e+00 - 3s/epoch - 10ms/step\n",
      "Epoch 62/64\n",
      "297/297 - 3s - loss: 0.2946 - accuracy: 0.8872 - val_loss: 3.3886 - val_accuracy: 0.0000e+00 - 3s/epoch - 10ms/step\n",
      "Epoch 63/64\n",
      "297/297 - 3s - loss: 0.2773 - accuracy: 0.8830 - val_loss: 5.4380 - val_accuracy: 0.0000e+00 - 3s/epoch - 10ms/step\n",
      "Epoch 64/64\n",
      "297/297 - 3s - loss: 0.2989 - accuracy: 0.8746 - val_loss: 6.4261 - val_accuracy: 0.0000e+00 - 3s/epoch - 10ms/step\n"
     ]
    }
   ],
   "source": [
    "clf.compile(loss = 'categorical_crossentropy', optimizer = 'adam', metrics = ['accuracy'])"
   ],
   "metadata": {
    "collapsed": false,
    "ExecuteTime": {
     "end_time": "2024-01-13T12:37:29.275625Z",
     "start_time": "2024-01-13T12:33:50.535743Z"
    }
   }
  },
  {
   "cell_type": "code",
   "execution_count": 10,
   "outputs": [],
   "source": [
    "clf.summary()"
   ],
   "metadata": {
    "collapsed": false,
    "ExecuteTime": {
     "end_time": "2024-01-13T12:37:29.422112Z",
     "start_time": "2024-01-13T12:37:29.280281Z"
    }
   }
  },
  {
   "cell_type": "code",
   "execution_count": 11,
   "outputs": [
    {
     "data": {
      "text/plain": "<Figure size 1500x500 with 1 Axes>",
      "image/png": "[encoded data removed]"
     },
     "metadata": {},
     "output_type": "display_data"
    }
   ],
   "source": [
    "history = clf.fit(tensor.transpose(0, 2, 1)[:, :, :, np.newaxis], classes, batch_size = 4, epochs = 32, verbose = 2, validation_split=0.2, shuffle=True)"
   ],
   "metadata": {
    "collapsed": false,
    "ExecuteTime": {
     "end_time": "2024-01-13T12:37:29.832268Z",
     "start_time": "2024-01-13T12:37:29.423702Z"
    }
   }
  },
  {
   "cell_type": "code",
   "execution_count": null,
   "outputs": [],
   "source": [
    "def _plot_history_acc(history) -> None:\n",
    "    acc_train = history.history[\"accuracy\"]\n",
    "    acc_val = history.history[\"val_accuracy\"]\n",
    "    x = [i+1 for i in range(0, len(acc_train))]\n",
    "\n",
    "    fig, ax = plt.subplots(nrows=1, ncols=1, figsize=(15,5))\n",
    "    ax.set_title(\"Total Loss\", size=16, fontweight=\"bold\")\n",
    "    sns.lineplot(x=x, y=acc_train, label=\"Accuracy Train\", ax=ax)\n",
    "    sns.lineplot(x=x, y=acc_val, label=\"Accuracy Val\", ax=ax)\n",
    "    fig.tight_layout()\n",
    "    plt.show()"
   ],
   "metadata": {
    "collapsed": false
   }
  },
  {
   "cell_type": "code",
   "execution_count": 12,
   "outputs": [],
   "source": [
    "_plot_history_acc(history)"
   ],
   "metadata": {
    "collapsed": false,
    "ExecuteTime": {
     "end_time": "2024-01-13T12:37:29.897567Z",
     "start_time": "2024-01-13T12:37:29.833818Z"
    }
   }
  },
  {
   "cell_type": "markdown",
   "source": [
    "# EEGNet Conv1D"
   ],
   "metadata": {
    "collapsed": false,
    "ExecuteTime": {
     "end_time": "2024-01-13T12:37:29.960592Z",
     "start_time": "2024-01-13T12:37:29.898714Z"
    }
   },
   "outputs": [],
   "execution_count": 13
  },
  {
   "cell_type": "code",
   "execution_count": 14,
   "outputs": [],
   "source": [
    "from src.eegnet import EEGNetConv1D"
   ],
   "metadata": {
    "collapsed": false,
    "ExecuteTime": {
     "end_time": "2024-01-13T12:37:30.024837Z",
     "start_time": "2024-01-13T12:37:29.961939Z"
    }
   }
  },
  {
   "cell_type": "code",
   "execution_count": 15,
   "outputs": [],
   "source": [
    "model = EEGNetConv1D(nb_classes=3, timesteps=250, channels=7, dropoutRate=0.5)\n",
    "model.compile(loss = 'categorical_crossentropy', optimizer = 'adam', metrics = ['accuracy'])"
   ],
   "metadata": {
    "collapsed": false,
    "ExecuteTime": {
     "end_time": "2024-01-13T12:37:30.100809Z",
     "start_time": "2024-01-13T12:37:30.025743Z"
    }
   }
  },
  {
   "cell_type": "code",
   "execution_count": 16,
   "outputs": [],
   "source": [
    "model.summary()"
   ],
   "metadata": {
    "collapsed": false,
    "ExecuteTime": {
     "end_time": "2024-01-13T12:37:30.151983Z",
     "start_time": "2024-01-13T12:37:30.089307Z"
    }
   }
  },
  {
   "cell_type": "code",
   "execution_count": 16,
   "outputs": [],
   "source": [
    "history = model.fit(tensor, classes, batch_size = 4, epochs = 32, verbose = 2, validation_split=0.2, shuffle=True)"
   ],
   "metadata": {
    "collapsed": false,
    "ExecuteTime": {
     "end_time": "2024-01-13T12:37:30.156578Z",
     "start_time": "2024-01-13T12:37:30.153695Z"
    }
   }
  },
  {
   "cell_type": "code",
   "execution_count": null,
   "outputs": [],
   "source": [
    "_plot_history_acc(history)"
   ],
   "metadata": {
    "collapsed": false
   }
  },
  {
   "cell_type": "code",
   "execution_count": null,
   "outputs": [],
   "source": [],
   "metadata": {
    "collapsed": false
   }
  }
 ],
 "metadata": {
  "kernelspec": {
   "display_name": "Python 3",
   "language": "python",
   "name": "python3"
  },
  "language_info": {
   "codemirror_mode": {
    "name": "ipython",
    "version": 2
   },
   "file_extension": ".py",
   "mimetype": "text/x-python",
   "name": "python",
   "nbconvert_exporter": "python",
   "pygments_lexer": "ipython2",
   "version": "2.7.6"
  }
 },
 "nbformat": 4,
 "nbformat_minor": 0
}
