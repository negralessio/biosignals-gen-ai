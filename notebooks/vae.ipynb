{
 "cells": [
  {
   "cell_type": "code",
   "execution_count": null,
   "metadata": {},
   "outputs": [],
   "source": [
    "%load_ext autoreload\n",
    "%autoreload 2"
   ]
  },
  {
   "cell_type": "code",
   "execution_count": null,
   "metadata": {},
   "outputs": [],
   "source": [
    "import pandas as pd\n",
    "import numpy as np\n",
    "import matplotlib.pyplot as plt\n",
    "import seaborn as sns\n",
    "\n",
    "from src.dataloading import DataLoader\n",
    "from src.preprocessing import Preprocesser\n",
    "from src.vae_lstm import LSTMVAE\n",
    "from src.vae_dense import DenseVAE\n",
    "from src.vae_conv import ConvVAE\n",
    "\n",
    "from tensorflow.keras.callbacks import EarlyStopping, ReduceLROnPlateau\n",
    "\n",
    "import matplotlib\n",
    "\n",
    "matplotlib.rcParams['mathtext.fontset'] = 'stix'\n",
    "matplotlib.rcParams['font.family'] = 'STIXGeneral'"
   ]
  },
  {
   "cell_type": "code",
   "execution_count": null,
   "metadata": {},
   "outputs": [],
   "source": [
    "LATENT_DIM: int = 5"
   ]
  },
  {
   "cell_type": "markdown",
   "metadata": {},
   "source": [
    "# Load Data"
   ]
  },
  {
   "cell_type": "code",
   "execution_count": null,
   "metadata": {},
   "outputs": [],
   "source": [
    "dataloader = DataLoader(path_to_data=\"../data/raw/P01\")\n",
    "df_list: list[pd.DataFrame] = dataloader.load_data()"
   ]
  },
  {
   "cell_type": "markdown",
   "metadata": {},
   "source": [
    "# Preprocess Data"
   ]
  },
  {
   "cell_type": "code",
   "execution_count": null,
   "metadata": {},
   "outputs": [],
   "source": [
    "preprocessor_train = Preprocesser(df_list=df_list, condition=\"MathxHard\", rolling_window_size=250, fixed_size=10990)\n",
    "tensor: np.array = preprocessor_train.preprocess_data()\n",
    "FEATURE_NAMES = list(preprocessor_train.df_list_processed[0].columns)\n",
    "\n",
    "print(tensor.shape)"
   ]
  },
  {
   "cell_type": "markdown",
   "metadata": {},
   "source": [
    "# Modelling"
   ]
  },
  {
   "cell_type": "code",
   "execution_count": null,
   "metadata": {},
   "outputs": [],
   "source": [
    "#vae = LSTMVAE(tensor=tensor, latent_dims=LATENT_DIM, reconstruction_weight=3)\n",
    "#vae = DenseVAE(tensor=tensor, latent_dims=LATENT_DIM, reconstruction_weight=3)\n",
    "vae = ConvVAE(tensor=tensor, latent_dims=LATENT_DIM, reconstruction_weight=3)\n",
    "\n",
    "vae.compile(optimizer=\"adam\")\n",
    "vae.build((None, tensor.shape[1], tensor.shape[2]))"
   ]
  },
  {
   "cell_type": "code",
   "execution_count": null,
   "metadata": {},
   "outputs": [],
   "source": [
    "vae.encoder.summary()"
   ]
  },
  {
   "cell_type": "code",
   "execution_count": null,
   "metadata": {},
   "outputs": [],
   "source": [
    "vae.decoder.summary()"
   ]
  },
  {
   "cell_type": "code",
   "execution_count": null,
   "metadata": {},
   "outputs": [],
   "source": [
    "history = vae.fit(tensor, epochs=8, batch_size=4, validation_split=0.1, shuffle=True)#, callbacks=[ReduceLROnPlateau(monitor=\"val_loss\", patience=20), EarlyStopping(monitor=\"val_loss\", patience=30)])"
   ]
  },
  {
   "cell_type": "code",
   "execution_count": null,
   "metadata": {},
   "outputs": [],
   "source": [
    "def plot_history(history):\n",
    "    loss_dict = history.history\n",
    "\n",
    "    loss_train = loss_dict[\"loss\"]\n",
    "    loss_val = loss_dict[\"val_loss\"]\n",
    "\n",
    "    rec_loss = loss_dict[\"reconstruction_loss\"]\n",
    "    rec_loss_val = loss_dict[\"val_reconstruction_loss\"]\n",
    "\n",
    "    kl_loss = loss_dict[\"kl_loss\"]\n",
    "    kl_loss_val = loss_dict[\"val_kl_loss\"]\n",
    "\n",
    "    x = [i+1 for i in range(0, len(loss_train))]\n",
    "\n",
    "    fig, axes = plt.subplots(nrows=1, ncols=3, figsize=(15,5))\n",
    "    axes[0].set_title(\"Total Loss\", size=16, fontweight=\"bold\")\n",
    "    sns.lineplot(x=x, y=loss_train, label=\"Train\", ax=axes[0])\n",
    "    sns.lineplot(x=x, y=loss_val, label=\"Val\", ax=axes[0])\n",
    "\n",
    "    axes[1].set_title(\"Reconstruction Loss\", size=16, fontweight=\"bold\")\n",
    "    sns.lineplot(x=x, y=rec_loss, label=\"Train\", ax=axes[1])\n",
    "    sns.lineplot(x=x, y=rec_loss_val, label=\"Val\", ax=axes[1])\n",
    "\n",
    "    axes[2].set_title(\"KL Loss\", size=16, fontweight=\"bold\")\n",
    "    sns.lineplot(x=x, y=kl_loss, label=\"Train\", ax=axes[2])\n",
    "    sns.lineplot(x=x, y=kl_loss_val, label=\"Val\", ax=axes[2])\n",
    "    fig.tight_layout()\n",
    "\n",
    "plot_history(history)"
   ]
  },
  {
   "cell_type": "markdown",
   "metadata": {},
   "source": [
    "## Save Model"
   ]
  },
  {
   "cell_type": "code",
   "execution_count": null,
   "metadata": {},
   "outputs": [],
   "source": [
    "#vae.save(\"../models/e64_b2_43k_params\")\n",
    "\n",
    "# Load Model\n",
    "#vae = tf.keras.models.load_model(\"../models/e32-b1_final_dir\")"
   ]
  },
  {
   "cell_type": "markdown",
   "metadata": {},
   "source": [
    "# Reconstruction Plotting"
   ]
  },
  {
   "cell_type": "code",
   "execution_count": null,
   "metadata": {},
   "outputs": [],
   "source": [
    "train_sample = np.expand_dims(tensor[0], axis=0)\n",
    "print(train_sample.shape)"
   ]
  },
  {
   "cell_type": "code",
   "execution_count": null,
   "metadata": {},
   "outputs": [],
   "source": [
    "train_sample_reconstructed = vae.predict(train_sample)"
   ]
  },
  {
   "cell_type": "code",
   "execution_count": null,
   "metadata": {},
   "outputs": [],
   "source": [
    "# Compare original and reconstruction\n",
    "def compare_original_and_reconstruction(sample: np.array, sample_reconstructed: np.array) -> None:\n",
    "    df_sample = pd.DataFrame(sample, columns=FEATURE_NAMES)\n",
    "    df_reconstructed = pd.DataFrame(sample_reconstructed, columns=FEATURE_NAMES)\n",
    "\n",
    "    fig, axes = plt.subplots(nrows=len(FEATURE_NAMES), ncols=1, figsize=(20, len(FEATURE_NAMES)*3))\n",
    "    for col, ax in zip(FEATURE_NAMES, axes.flatten()):\n",
    "        sns.lineplot(data=df_sample, x=df_sample.index, y=col, ax=ax, label=\"Original\")\n",
    "        sns.lineplot(data=df_reconstructed, x=df_reconstructed.index, y=col, ax=ax, label=\"Reconstructed\")\n",
    "        #ax.fill_between(df_reconstructed.index, df_sample[col], df_reconstructed[col], color='lightcoral', label=\"Error\")\n",
    "        ax.set_title(col, fontweight=\"bold\", size=16)\n",
    "    fig.tight_layout()\n",
    "\n",
    "\n",
    "compare_original_and_reconstruction(train_sample[0], train_sample_reconstructed[0])"
   ]
  },
  {
   "cell_type": "markdown",
   "metadata": {},
   "source": [
    "# Generate new Samples by Sampling from latent space"
   ]
  },
  {
   "cell_type": "code",
   "execution_count": null,
   "metadata": {},
   "outputs": [],
   "source": [
    "# Generate synthetic data function using the decoder part of the VAE\n",
    "def generate_time_series_conditioned_on_x(x: np.array, num_samples: int, latent_dims: int):\n",
    "    # Get mean and log_variance from encoding x\n",
    "    z_mean, z_log_var, _ = vae.encoder.predict(x)\n",
    "    # Sample from the latent space\n",
    "    latent_samples = np.random.normal(size=(num_samples, latent_dims), loc=z_mean, scale=np.exp(z_log_var))\n",
    "    print(f\"Latent Samples: {latent_samples}\")\n",
    "    print(\"z_mean: \", z_mean)\n",
    "    print(\"z_log_Var: \", z_log_var)\n",
    "    # Generate synthetic data using the decoder model\n",
    "    synthetic_data = vae.decoder(latent_samples).numpy()\n",
    "    return synthetic_data\n",
    "\n",
    "def sample_from_prior_z(num_samples: int, latent_dims: int):\n",
    "    z = np.random.normal(size=(num_samples, latent_dims))\n",
    "    return z\n",
    "\n",
    "def get_samples_given_z(z):\n",
    "    samples = vae.decoder(z).numpy()\n",
    "    return samples\n",
    "\n",
    "# Generate synthetic time series data\n",
    "num_samples = 1\n",
    "#synthetic_time_series = generate_time_series_conditioned_on_x(train_sample, num_samples, latent_dims=LATENT_DIM)\n",
    "synthetic_time_series = get_samples_given_z(sample_from_prior_z(num_samples, LATENT_DIM))\n",
    "print(synthetic_time_series.shape)"
   ]
  },
  {
   "cell_type": "code",
   "execution_count": null,
   "metadata": {},
   "outputs": [],
   "source": [
    "def plot_all_time_series(X: np.array) -> None:\n",
    "    \"\"\" Plots all Time Series (all float64 columns) in the provided DataFrame\n",
    "\n",
    "    :param x: np.array -- Input data of shape (N_SEQ, N_FEATS)\n",
    "    :param time_col: str -- Name of the time column\n",
    "    :return: None\n",
    "    \"\"\"\n",
    "    df = pd.DataFrame(X, columns=FEATURE_NAMES)\n",
    "\n",
    "    fig, axes = plt.subplots(nrows=len(df.columns), ncols=1, figsize=(20, len(df.columns)*3))\n",
    "    for col, ax in zip(df.columns, axes.flatten()):\n",
    "        sns.lineplot(data=df, x=df.index, y=col, ax=ax)\n",
    "        ax.set_title(col, fontweight=\"bold\", size=16)\n",
    "    fig.tight_layout()\n",
    "\n",
    "plot_all_time_series(synthetic_time_series[0])"
   ]
  },
  {
   "cell_type": "markdown",
   "metadata": {},
   "source": [
    "# Visualize latent space / posterior\n",
    "$$ q_\\Phi(z|x) \\approx p\\theta(z|x) $$"
   ]
  },
  {
   "cell_type": "code",
   "execution_count": null,
   "metadata": {},
   "outputs": [],
   "source": [
    "def encode_batch(x: np.array):\n",
    "    z_mean, z_log_var, z = vae.encoder(x)\n",
    "    return z_mean, z_log_var, z\n",
    "\n",
    "z_mean, z_log_var, z = encode_batch(tensor)"
   ]
  },
  {
   "cell_type": "code",
   "execution_count": null,
   "metadata": {},
   "outputs": [],
   "source": [
    "from sklearn.manifold import TSNE"
   ]
  },
  {
   "cell_type": "code",
   "execution_count": null,
   "metadata": {},
   "outputs": [],
   "source": [
    "tsne = TSNE(perplexity=10)\n",
    "z_dim_reduced = tsne.fit_transform(z_mean)"
   ]
  },
  {
   "cell_type": "code",
   "execution_count": null,
   "metadata": {},
   "outputs": [],
   "source": [
    "fig, ax = plt.subplots(1,1, figsize=(10,7))\n",
    "ax.set_title(\"Dimension reduced z space using T-SNE\", fontweight=\"bold\", size=16)\n",
    "sns.scatterplot(x=z_dim_reduced[:,0], y=z_dim_reduced[:,1], ax=ax, edgecolor=\"black\", alpha=.8)\n",
    "ax.set_xlabel(\"z_mean[0]\")\n",
    "ax.set_ylabel(\"z_mean[1]\")\n",
    "fig.show()"
   ]
  },
  {
   "cell_type": "markdown",
   "metadata": {},
   "source": [
    "# Visualize using PCA"
   ]
  },
  {
   "cell_type": "code",
   "execution_count": null,
   "metadata": {},
   "outputs": [],
   "source": [
    "from sklearn.decomposition import PCA\n",
    "from sklearn.cluster import KMeans\n",
    "\n",
    "N_PCS: int = 2\n",
    "N_CLUSTERS: int = 3\n",
    "    \n",
    "pca = PCA(n_components=N_PCS, random_state=42)\n",
    "kmeans = KMeans(n_clusters=N_CLUSTERS, random_state=42)"
   ]
  },
  {
   "cell_type": "code",
   "execution_count": null,
   "metadata": {},
   "outputs": [],
   "source": [
    "z_dim_reduced_pca = pca.fit_transform(z_mean)\n",
    "labels = kmeans.fit(z_mean).labels_"
   ]
  },
  {
   "cell_type": "code",
   "execution_count": null,
   "metadata": {},
   "outputs": [],
   "source": [
    "print(f\"Total Explained Variance: {sum(pca.explained_variance_ratio_):.2f}\")\n",
    "pca.explained_variance_ratio_"
   ]
  },
  {
   "cell_type": "code",
   "execution_count": null,
   "metadata": {},
   "outputs": [],
   "source": [
    "centroids = pca.transform(kmeans.cluster_centers_)\n",
    "centroids"
   ]
  },
  {
   "cell_type": "code",
   "execution_count": null,
   "metadata": {},
   "outputs": [],
   "source": [
    "fig, ax = plt.subplots(1,1, figsize=(10,7))\n",
    "ax.set_title(\"Dimension reduced z space using PCA (clustering on original space)\", fontweight=\"bold\", size=14)\n",
    "sns.scatterplot(x=z_dim_reduced_pca[:,0], y=z_dim_reduced_pca[:,1], ax=ax, edgecolor=\"black\", alpha=.8, hue=labels, palette=\"tab10\")\n",
    "sns.scatterplot(x=centroids[:,0], y=centroids[:, 1], marker=\"+\", label=\"Centroids\", s=100, edgecolor=\"black\")\n",
    "ax.set_xlabel(\"z_mean[0]\")\n",
    "ax.set_ylabel(\"z_mean[1]\")\n",
    "fig.show()"
   ]
  },
  {
   "cell_type": "code",
   "execution_count": null,
   "metadata": {},
   "outputs": [],
   "source": [
    "# Pick a Sample and recounstruct\n",
    "sample_z_mean = np.array([[0, 0]])\n",
    "sample_z_mean = pca.inverse_transform(sample_z_mean)"
   ]
  },
  {
   "cell_type": "code",
   "execution_count": null,
   "metadata": {},
   "outputs": [],
   "source": [
    "sample_z_mean_reconstructed = vae.decoder(sample_z_mean)"
   ]
  },
  {
   "cell_type": "code",
   "execution_count": null,
   "metadata": {},
   "outputs": [],
   "source": [
    "plot_all_time_series(sample_z_mean_reconstructed[0])"
   ]
  },
  {
   "cell_type": "markdown",
   "metadata": {},
   "source": [
    "# Visualize Clusters"
   ]
  },
  {
   "cell_type": "code",
   "execution_count": null,
   "metadata": {},
   "outputs": [],
   "source": [
    "centroid_reconstructed = pca.inverse_transform(centroids)"
   ]
  },
  {
   "cell_type": "code",
   "execution_count": null,
   "metadata": {},
   "outputs": [],
   "source": [
    "samples_from_centroids = vae.decoder(centroid_reconstructed)"
   ]
  },
  {
   "cell_type": "code",
   "execution_count": null,
   "metadata": {},
   "outputs": [],
   "source": [
    "for i in range(samples_from_centroids.shape[0]):\n",
    "    plot_all_time_series(samples_from_centroids[i])"
   ]
  },
  {
   "cell_type": "code",
   "execution_count": null,
   "metadata": {},
   "outputs": [],
   "source": []
  }
 ],
 "metadata": {
  "kernelspec": {
   "display_name": "Python 3 (ipykernel)",
   "language": "python",
   "name": "python3"
  },
  "language_info": {
   "codemirror_mode": {
    "name": "ipython",
    "version": 3
   },
   "file_extension": ".py",
   "mimetype": "text/x-python",
   "name": "python",
   "nbconvert_exporter": "python",
   "pygments_lexer": "ipython3",
   "version": "3.10.0"
  }
 },
 "nbformat": 4,
 "nbformat_minor": 1
}
